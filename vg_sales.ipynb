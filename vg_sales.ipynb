{
 "cells": [
  {
   "cell_type": "code",
   "execution_count": 20,
   "id": "714384fe-ba4f-4b8b-a543-a87e9603c78b",
   "metadata": {},
   "outputs": [
    {
     "name": "stdout",
     "output_type": "stream",
     "text": [
      "                 Title      Sales            Series        Platform  \\\n",
      "0            Minecraft  238000000         Minecraft  Multi-platform   \n",
      "1   Grand Theft Auto V  180000000  Grand Theft Auto  Multi-platform   \n",
      "2          Tetris (EA)  100000000            Tetris  Multi-platform   \n",
      "3           Wii Sports   82900000               Wii             Wii   \n",
      "4  PUBG: Battlegrounds   75000000     PUBG Universe  Multi-platform   \n",
      "\n",
      "                   date         Developer        Publisher  \n",
      "0  November 18, 2011[c]    Mojang Studios   Mojang Studios  \n",
      "1    September 17, 2013    Rockstar North   Rockstar Games  \n",
      "2    September 12, 2006         EA Mobile  Electronic Arts  \n",
      "3     November 19, 2006      Nintendo EAD         Nintendo  \n",
      "4     December 20, 2017  PUBG Corporation          Krafton  \n"
     ]
    }
   ],
   "source": [
    "import pandas as pd\n",
    "import numpy as np\n",
    "import matplotlib.pyplot as plt\n",
    "import seaborn as sns\n",
    "import requests as r\n",
    "from bs4 import BeautifulSoup\n",
    "\n",
    "\n",
    "\n",
    "#web scraping wikipedia page for highest selling video games\n",
    "url = 'https://en.wikipedia.org/wiki/List_of_best-selling_video_games'\n",
    "unparsed_wiki = r.get(url)\n",
    "\n",
    "#parsing data into a beautifulsoup object\n",
    "soup = BeautifulSoup(unparsed_wiki.text, 'html.parser')\n",
    "parsed_wiki = soup.find('table',{'class':\"wikitable\"})\n",
    "\n",
    "#converting parsed data into a dataframe\n",
    "videogame_sales = pd.read_html(str(parsed_wiki))\n",
    "vg_sales = pd.DataFrame(videogame_sales[0])\n",
    "\n",
    "\n",
    "#dropping 'Ref' column. inplace = True so to not create new dataframe\n",
    "vg_sales.drop(columns = ['Ref'], inplace=True)\n",
    "#renaming columns to remove superfluous syntax \n",
    "vg_sales.rename(columns={\"Platform(s)\": \"Platform\", \"Initial release date\": \"date\", \"Developer(s)[b]\": \"Developer\", \"Publisher(s)[b]\": \"Publisher\"}, inplace = True)\n",
    "\n",
    "\n",
    "\n",
    "\n",
    "print(vg_sales.head())"
   ]
  },
  {
   "cell_type": "code",
   "execution_count": null,
   "id": "d00b01e7-8dfa-4d99-9f7b-75569f116741",
   "metadata": {},
   "outputs": [],
   "source": []
  },
  {
   "cell_type": "code",
   "execution_count": null,
   "id": "3b21a7e3-0799-49e7-a9ef-9d241d4fca60",
   "metadata": {},
   "outputs": [],
   "source": []
  }
 ],
 "metadata": {
  "kernelspec": {
   "display_name": "Python 3 (ipykernel)",
   "language": "python",
   "name": "python3"
  },
  "language_info": {
   "codemirror_mode": {
    "name": "ipython",
    "version": 3
   },
   "file_extension": ".py",
   "mimetype": "text/x-python",
   "name": "python",
   "nbconvert_exporter": "python",
   "pygments_lexer": "ipython3",
   "version": "3.10.9"
  }
 },
 "nbformat": 4,
 "nbformat_minor": 5
}
